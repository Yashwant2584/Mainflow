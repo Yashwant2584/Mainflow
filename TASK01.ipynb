{
  "nbformat": 4,
  "nbformat_minor": 0,
  "metadata": {
    "colab": {
      "provenance": [],
      "authorship_tag": "ABX9TyNMrrKtrGnzht1S3jWNbAOZ",
      "include_colab_link": true
    },
    "kernelspec": {
      "name": "python3",
      "display_name": "Python 3"
    },
    "language_info": {
      "name": "python"
    }
  },
  "cells": [
    {
      "cell_type": "markdown",
      "metadata": {
        "id": "view-in-github",
        "colab_type": "text"
      },
      "source": [
        "<a href=\"https://colab.research.google.com/github/Yashwant2584/Mainflow/blob/main/TASK01.ipynb\" target=\"_parent\"><img src=\"https://colab.research.google.com/assets/colab-badge.svg\" alt=\"Open In Colab\"/></a>"
      ]
    },
    {
      "cell_type": "code",
      "execution_count": 5,
      "metadata": {
        "colab": {
          "base_uri": "https://localhost:8080/"
        },
        "id": "4Na12Omg986F",
        "outputId": "653946a5-8b1c-4dac-9e65-74457bb3c11b"
      },
      "outputs": [
        {
          "output_type": "stream",
          "name": "stdout",
          "text": [
            "Original list:  [1, 2, 3, 4, 5]\n",
            "After addition:  [1, 2, 3, 4, 5, 10]\n",
            "After removal:  [2, 3, 4, 5, 10]\n",
            "After modification:  [0, 3, 4, 5, 10]\n",
            "Original dictionary:  {'name': 'Steve', 'age': 19, 'city': 'Pune'}\n",
            "After addition:  {'name': 'Steve', 'age': 19, 'city': 'Pune', 'gender': 'Male'}\n",
            "After removal:  {'name': 'Steve', 'city': 'Pune', 'gender': 'Male'}\n",
            "After modification:  {'name': 'Steve', 'city': 'Mumbai', 'gender': 'Male'}\n",
            "Original set:  {1, 2, 3, 4, 5}\n",
            "After addition:  {1, 2, 3, 4, 5, 10}\n",
            "After removal:  {2, 3, 4, 5, 10}\n",
            "After modification:  {2, 3, 5, 19, 10}\n"
          ]
        }
      ],
      "source": [
        "# creating a list\n",
        "list = [1, 2, 3, 4, 5]\n",
        "print(\"Original list: \",list)\n",
        "\n",
        "# adding a element in the orginal list\n",
        "list.append(10)\n",
        "print(\"After addition: \",list)\n",
        "# removing a element from the original list\n",
        "list.remove(1)\n",
        "print(\"After removal: \",list)\n",
        "# modifying the original list\n",
        "list[0] = 0\n",
        "print(\"After modification: \",list)\n",
        "\n",
        "\n",
        "# creating a dictionary\n",
        "dict = {'name':'Steve', 'age':19, 'city':'Pune'}\n",
        "print(\"Original dictionary: \",dict)\n",
        "\n",
        "# adding a element in the orginal dictionary\n",
        "dict['gender'] = 'Male'\n",
        "print(\"After addition: \",dict)\n",
        "# removing a element from the original dictionary\n",
        "del dict['age']\n",
        "print(\"After removal: \",dict)\n",
        "# modifying the original dictionary\n",
        "dict['city'] = 'Mumbai'\n",
        "print(\"After modification: \",dict)\n",
        "\n",
        "\n",
        "# creating a set\n",
        "set = {1, 2, 3, 4, 5}\n",
        "print(\"Original set: \",set)\n",
        "\n",
        "# adding a element in the orginal set\n",
        "set.add(10)\n",
        "print(\"After addition: \",set)\n",
        "# removing a element from the original set\n",
        "set.remove(1)\n",
        "print(\"After removal: \",set)\n",
        "# modifying the original set\n",
        "set.add(19)\n",
        "set.discard(4)\n",
        "print(\"After modification: \",set)"
      ]
    }
  ]
}